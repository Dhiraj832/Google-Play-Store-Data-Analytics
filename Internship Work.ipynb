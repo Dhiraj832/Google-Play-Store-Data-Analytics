{
 "cells": [
  {
   "cell_type": "code",
   "execution_count": 230,
   "metadata": {},
   "outputs": [],
   "source": [
    "import pandas as pd\n",
    "import numpy as np\n",
    "import plotly.express as px\n",
    "import plotly.io as pio\n",
    "import plotly.graph_objects as go\n",
    "from nltk.sentiment.vader import SentimentIntensityAnalyzer\n",
    "import webbrowser\n",
    "import os\n",
    "import datetime as dt\n",
    "from datetime import datetime\n",
    "import warnings\n",
    "warnings.filterwarnings('ignore')"
   ]
  },
  {
   "cell_type": "code",
   "execution_count": 231,
   "metadata": {},
   "outputs": [],
   "source": [
    "apps_df = pd.read_csv('Play Store Data.csv')\n",
    "reviews_df = pd.read_csv('User Reviews.csv')"
   ]
  },
  {
   "cell_type": "markdown",
   "metadata": {},
   "source": [
    "# Data Cleaning"
   ]
  },
  {
   "cell_type": "code",
   "execution_count": 232,
   "metadata": {},
   "outputs": [
    {
     "name": "stdout",
     "output_type": "stream",
     "text": [
      "<class 'pandas.core.frame.DataFrame'>\n",
      "RangeIndex: 10841 entries, 0 to 10840\n",
      "Data columns (total 13 columns):\n",
      " #   Column          Non-Null Count  Dtype  \n",
      "---  ------          --------------  -----  \n",
      " 0   App             10841 non-null  object \n",
      " 1   Category        10841 non-null  object \n",
      " 2   Rating          9367 non-null   float64\n",
      " 3   Reviews         10841 non-null  object \n",
      " 4   Size            10841 non-null  object \n",
      " 5   Installs        10841 non-null  object \n",
      " 6   Type            10840 non-null  object \n",
      " 7   Price           10841 non-null  object \n",
      " 8   Content Rating  10840 non-null  object \n",
      " 9   Genres          10841 non-null  object \n",
      " 10  Last Updated    10841 non-null  object \n",
      " 11  Current Ver     10833 non-null  object \n",
      " 12  Android Ver     10838 non-null  object \n",
      "dtypes: float64(1), object(12)\n",
      "memory usage: 1.1+ MB\n"
     ]
    }
   ],
   "source": [
    "apps_df.info()"
   ]
  },
  {
   "cell_type": "code",
   "execution_count": 233,
   "metadata": {},
   "outputs": [],
   "source": [
    "# Removing entries having no Rating values\n",
    "apps_df = apps_df.dropna(subset=['Rating'])\n",
    "\n",
    "# filling missing values with most frequent value of each column\n",
    "for column in apps_df.columns :\n",
    "    apps_df[column].fillna(apps_df[column].mode()[0],inplace=True)\n",
    "\n",
    "# Dropping duplicate rows\n",
    "apps_df.drop_duplicates(inplace=True)\n",
    "# Removing Rating values greater than 5\n",
    "apps_df=apps_df[apps_df['Rating']<=5]\n",
    "\n",
    "# Dropping entries having no Translated Reviews \n",
    "reviews_df.dropna(subset=['Translated_Review'],inplace=True)"
   ]
  },
  {
   "cell_type": "code",
   "execution_count": 234,
   "metadata": {},
   "outputs": [],
   "source": [
    "#Convert the Installs columns to numeric by removing commas and +\n",
    "apps_df['Installs']=apps_df['Installs'].str.replace(',','').str.replace('+','').astype(int)\n",
    "\n",
    "#Convert Price column to numeric after removing $\n",
    "apps_df['Price']=apps_df['Price'].str.replace('$','').astype(float)\n",
    "\n",
    "apps_df['Reviews'] = apps_df['Reviews'].astype(int)\n",
    "\n",
    "#Revenue column\n",
    "apps_df['Revenue']=apps_df['Price']*apps_df['Installs']\n",
    "\n",
    "# Convert Last updated Column to a date format\n",
    "apps_df['Last Updated'] = apps_df['Last Updated'].astype(str)\n",
    "apps_df['Last Updated']=pd.to_datetime(apps_df['Last Updated'], format= '%B %d, %Y')"
   ]
  },
  {
   "cell_type": "code",
   "execution_count": 235,
   "metadata": {},
   "outputs": [
    {
     "data": {
      "text/html": [
       "<div>\n",
       "<style scoped>\n",
       "    .dataframe tbody tr th:only-of-type {\n",
       "        vertical-align: middle;\n",
       "    }\n",
       "\n",
       "    .dataframe tbody tr th {\n",
       "        vertical-align: top;\n",
       "    }\n",
       "\n",
       "    .dataframe thead th {\n",
       "        text-align: right;\n",
       "    }\n",
       "</style>\n",
       "<table border=\"1\" class=\"dataframe\">\n",
       "  <thead>\n",
       "    <tr style=\"text-align: right;\">\n",
       "      <th></th>\n",
       "      <th>App</th>\n",
       "      <th>Category</th>\n",
       "      <th>Rating</th>\n",
       "      <th>Reviews</th>\n",
       "      <th>Size</th>\n",
       "      <th>Installs</th>\n",
       "      <th>Type</th>\n",
       "      <th>Price</th>\n",
       "      <th>Content Rating</th>\n",
       "      <th>Genres</th>\n",
       "      <th>Last Updated</th>\n",
       "      <th>Current Ver</th>\n",
       "      <th>Android Ver</th>\n",
       "      <th>Revenue</th>\n",
       "    </tr>\n",
       "  </thead>\n",
       "  <tbody>\n",
       "    <tr>\n",
       "      <th>0</th>\n",
       "      <td>Photo Editor &amp; Candy Camera &amp; Grid &amp; ScrapBook</td>\n",
       "      <td>ART_AND_DESIGN</td>\n",
       "      <td>4.1</td>\n",
       "      <td>159</td>\n",
       "      <td>19M</td>\n",
       "      <td>10000</td>\n",
       "      <td>Free</td>\n",
       "      <td>0.0</td>\n",
       "      <td>Everyone</td>\n",
       "      <td>Art &amp; Design</td>\n",
       "      <td>2018-01-07</td>\n",
       "      <td>1.0.0</td>\n",
       "      <td>4.0.3 and up</td>\n",
       "      <td>0.0</td>\n",
       "    </tr>\n",
       "    <tr>\n",
       "      <th>1</th>\n",
       "      <td>Coloring book moana</td>\n",
       "      <td>ART_AND_DESIGN</td>\n",
       "      <td>3.9</td>\n",
       "      <td>967</td>\n",
       "      <td>14M</td>\n",
       "      <td>500000</td>\n",
       "      <td>Free</td>\n",
       "      <td>0.0</td>\n",
       "      <td>Everyone</td>\n",
       "      <td>Art &amp; Design;Pretend Play</td>\n",
       "      <td>2018-01-15</td>\n",
       "      <td>2.0.0</td>\n",
       "      <td>4.0.3 and up</td>\n",
       "      <td>0.0</td>\n",
       "    </tr>\n",
       "    <tr>\n",
       "      <th>2</th>\n",
       "      <td>U Launcher Lite – FREE Live Cool Themes, Hide ...</td>\n",
       "      <td>ART_AND_DESIGN</td>\n",
       "      <td>4.7</td>\n",
       "      <td>87510</td>\n",
       "      <td>8.7M</td>\n",
       "      <td>5000000</td>\n",
       "      <td>Free</td>\n",
       "      <td>0.0</td>\n",
       "      <td>Everyone</td>\n",
       "      <td>Art &amp; Design</td>\n",
       "      <td>2018-08-01</td>\n",
       "      <td>1.2.4</td>\n",
       "      <td>4.0.3 and up</td>\n",
       "      <td>0.0</td>\n",
       "    </tr>\n",
       "    <tr>\n",
       "      <th>3</th>\n",
       "      <td>Sketch - Draw &amp; Paint</td>\n",
       "      <td>ART_AND_DESIGN</td>\n",
       "      <td>4.5</td>\n",
       "      <td>215644</td>\n",
       "      <td>25M</td>\n",
       "      <td>50000000</td>\n",
       "      <td>Free</td>\n",
       "      <td>0.0</td>\n",
       "      <td>Teen</td>\n",
       "      <td>Art &amp; Design</td>\n",
       "      <td>2018-06-08</td>\n",
       "      <td>Varies with device</td>\n",
       "      <td>4.2 and up</td>\n",
       "      <td>0.0</td>\n",
       "    </tr>\n",
       "    <tr>\n",
       "      <th>4</th>\n",
       "      <td>Pixel Draw - Number Art Coloring Book</td>\n",
       "      <td>ART_AND_DESIGN</td>\n",
       "      <td>4.3</td>\n",
       "      <td>967</td>\n",
       "      <td>2.8M</td>\n",
       "      <td>100000</td>\n",
       "      <td>Free</td>\n",
       "      <td>0.0</td>\n",
       "      <td>Everyone</td>\n",
       "      <td>Art &amp; Design;Creativity</td>\n",
       "      <td>2018-06-20</td>\n",
       "      <td>1.1</td>\n",
       "      <td>4.4 and up</td>\n",
       "      <td>0.0</td>\n",
       "    </tr>\n",
       "  </tbody>\n",
       "</table>\n",
       "</div>"
      ],
      "text/plain": [
       "                                                 App        Category  Rating  \\\n",
       "0     Photo Editor & Candy Camera & Grid & ScrapBook  ART_AND_DESIGN     4.1   \n",
       "1                                Coloring book moana  ART_AND_DESIGN     3.9   \n",
       "2  U Launcher Lite – FREE Live Cool Themes, Hide ...  ART_AND_DESIGN     4.7   \n",
       "3                              Sketch - Draw & Paint  ART_AND_DESIGN     4.5   \n",
       "4              Pixel Draw - Number Art Coloring Book  ART_AND_DESIGN     4.3   \n",
       "\n",
       "   Reviews  Size  Installs  Type  Price Content Rating  \\\n",
       "0      159   19M     10000  Free    0.0       Everyone   \n",
       "1      967   14M    500000  Free    0.0       Everyone   \n",
       "2    87510  8.7M   5000000  Free    0.0       Everyone   \n",
       "3   215644   25M  50000000  Free    0.0           Teen   \n",
       "4      967  2.8M    100000  Free    0.0       Everyone   \n",
       "\n",
       "                      Genres Last Updated         Current Ver   Android Ver  \\\n",
       "0               Art & Design   2018-01-07               1.0.0  4.0.3 and up   \n",
       "1  Art & Design;Pretend Play   2018-01-15               2.0.0  4.0.3 and up   \n",
       "2               Art & Design   2018-08-01               1.2.4  4.0.3 and up   \n",
       "3               Art & Design   2018-06-08  Varies with device    4.2 and up   \n",
       "4    Art & Design;Creativity   2018-06-20                 1.1    4.4 and up   \n",
       "\n",
       "   Revenue  \n",
       "0      0.0  \n",
       "1      0.0  \n",
       "2      0.0  \n",
       "3      0.0  \n",
       "4      0.0  "
      ]
     },
     "execution_count": 235,
     "metadata": {},
     "output_type": "execute_result"
    }
   ],
   "source": [
    "apps_df.head(5)"
   ]
  },
  {
   "cell_type": "code",
   "execution_count": 236,
   "metadata": {},
   "outputs": [],
   "source": [
    "def rating_group(rating):\n",
    "    if rating <= 2:\n",
    "        return '1-2 stars'\n",
    "    elif rating <= 3:\n",
    "        return '2-3 stars'\n",
    "    elif rating <= 4:\n",
    "        return '3-4 stars'\n",
    "    elif rating <= 5:\n",
    "        return '4-5 stars'\n",
    "    \n",
    "apps_df['Rating_group']=apps_df['Rating'].apply(rating_group)"
   ]
  },
  {
   "cell_type": "code",
   "execution_count": 237,
   "metadata": {},
   "outputs": [],
   "source": [
    "#Convert Size column\n",
    "def convert_size(size):\n",
    "    if 'M' in size:\n",
    "        return float(size.replace('M',''))\n",
    "    elif 'k' in size:\n",
    "        return float(size.replace('k',''))/1024\n",
    "    else:\n",
    "        return np.nan\n",
    "apps_df['Size']=apps_df['Size'].apply(convert_size)"
   ]
  },
  {
   "cell_type": "code",
   "execution_count": 238,
   "metadata": {},
   "outputs": [],
   "source": [
    "#Revenue column\n",
    "apps_df['Revenue']=apps_df['Price']*apps_df['Installs']"
   ]
  },
  {
   "cell_type": "code",
   "execution_count": 239,
   "metadata": {},
   "outputs": [],
   "source": [
    "# Filling Null Values with mode\n",
    "for column in apps_df.columns :\n",
    "    apps_df[column].fillna(apps_df[column].mode()[0],inplace=True)"
   ]
  },
  {
   "cell_type": "code",
   "execution_count": 240,
   "metadata": {},
   "outputs": [],
   "source": [
    "# Merging the datasets into one\n",
    "merged_df=pd.merge(apps_df,reviews_df,on='App',how='inner')"
   ]
  },
  {
   "cell_type": "code",
   "execution_count": 241,
   "metadata": {},
   "outputs": [],
   "source": [
    "merged_df.to_csv(\"merged_df.csv\",index=False)"
   ]
  },
  {
   "cell_type": "code",
   "execution_count": 242,
   "metadata": {},
   "outputs": [],
   "source": [
    "html_files_path=\"./\"\n",
    "if not os.path.exists(html_files_path):\n",
    "    os.makedirs(html_files_path)\n",
    "plot_containers=\"\""
   ]
  },
  {
   "cell_type": "code",
   "execution_count": 243,
   "metadata": {},
   "outputs": [],
   "source": [
    "# Save each Plotly figure to an HTML file\n",
    "def save_plot_as_html(fig, filename, insight):\n",
    "    global plot_containers\n",
    "    filepath = os.path.join(html_files_path, filename)\n",
    "    html_content = pio.to_html(fig, full_html=False, include_plotlyjs='inline')\n",
    "    # Append the plot and its insight to plot_containers\n",
    "    plot_containers += f\"\"\"\n",
    "    <div class=\"plot-container\" id=\"{filename}\" onclick=\"openPlot('{filename}')\">\n",
    "        <div class=\"plot\">{html_content}</div>\n",
    "        <div class=\"insights\">{insight}</div>\n",
    "    </div>\n",
    "    \"\"\"\n",
    "    fig.write_html(filepath, full_html=False, include_plotlyjs='inline')"
   ]
  },
  {
   "cell_type": "markdown",
   "metadata": {},
   "source": [
    "# Visualization"
   ]
  },
  {
   "cell_type": "markdown",
   "metadata": {},
   "source": [
    "Q1. Visualize the sentiment distribution (positive, neutral, negative) of user reviews using a stacked bar chart, segmented by rating groups (e.g., 1-2 stars, 3-4 stars, 4-5 stars). Include only apps with more than 1,000 reviews and group by the top 5 categories.\n"
   ]
  },
  {
   "cell_type": "code",
   "execution_count": 244,
   "metadata": {},
   "outputs": [
    {
     "data": {
      "text/html": [
       "<div>\n",
       "<style scoped>\n",
       "    .dataframe tbody tr th:only-of-type {\n",
       "        vertical-align: middle;\n",
       "    }\n",
       "\n",
       "    .dataframe tbody tr th {\n",
       "        vertical-align: top;\n",
       "    }\n",
       "\n",
       "    .dataframe thead th {\n",
       "        text-align: right;\n",
       "    }\n",
       "</style>\n",
       "<table border=\"1\" class=\"dataframe\">\n",
       "  <thead>\n",
       "    <tr style=\"text-align: right;\">\n",
       "      <th></th>\n",
       "      <th>Category</th>\n",
       "      <th>Rating_group</th>\n",
       "      <th>Sentiment</th>\n",
       "      <th>Count</th>\n",
       "    </tr>\n",
       "  </thead>\n",
       "  <tbody>\n",
       "    <tr>\n",
       "      <th>0</th>\n",
       "      <td>FAMILY</td>\n",
       "      <td>3-4 stars</td>\n",
       "      <td>Negative</td>\n",
       "      <td>100</td>\n",
       "    </tr>\n",
       "    <tr>\n",
       "      <th>1</th>\n",
       "      <td>FAMILY</td>\n",
       "      <td>3-4 stars</td>\n",
       "      <td>Neutral</td>\n",
       "      <td>45</td>\n",
       "    </tr>\n",
       "    <tr>\n",
       "      <th>2</th>\n",
       "      <td>FAMILY</td>\n",
       "      <td>3-4 stars</td>\n",
       "      <td>Positive</td>\n",
       "      <td>172</td>\n",
       "    </tr>\n",
       "    <tr>\n",
       "      <th>3</th>\n",
       "      <td>FAMILY</td>\n",
       "      <td>4-5 stars</td>\n",
       "      <td>Negative</td>\n",
       "      <td>1338</td>\n",
       "    </tr>\n",
       "    <tr>\n",
       "      <th>4</th>\n",
       "      <td>FAMILY</td>\n",
       "      <td>4-5 stars</td>\n",
       "      <td>Neutral</td>\n",
       "      <td>364</td>\n",
       "    </tr>\n",
       "    <tr>\n",
       "      <th>5</th>\n",
       "      <td>FAMILY</td>\n",
       "      <td>4-5 stars</td>\n",
       "      <td>Positive</td>\n",
       "      <td>3334</td>\n",
       "    </tr>\n",
       "    <tr>\n",
       "      <th>6</th>\n",
       "      <td>GAME</td>\n",
       "      <td>3-4 stars</td>\n",
       "      <td>Negative</td>\n",
       "      <td>78</td>\n",
       "    </tr>\n",
       "    <tr>\n",
       "      <th>7</th>\n",
       "      <td>GAME</td>\n",
       "      <td>3-4 stars</td>\n",
       "      <td>Neutral</td>\n",
       "      <td>14</td>\n",
       "    </tr>\n",
       "    <tr>\n",
       "      <th>8</th>\n",
       "      <td>GAME</td>\n",
       "      <td>3-4 stars</td>\n",
       "      <td>Positive</td>\n",
       "      <td>124</td>\n",
       "    </tr>\n",
       "    <tr>\n",
       "      <th>9</th>\n",
       "      <td>GAME</td>\n",
       "      <td>4-5 stars</td>\n",
       "      <td>Negative</td>\n",
       "      <td>6446</td>\n",
       "    </tr>\n",
       "  </tbody>\n",
       "</table>\n",
       "</div>"
      ],
      "text/plain": [
       "  Category Rating_group Sentiment  Count\n",
       "0   FAMILY    3-4 stars  Negative    100\n",
       "1   FAMILY    3-4 stars   Neutral     45\n",
       "2   FAMILY    3-4 stars  Positive    172\n",
       "3   FAMILY    4-5 stars  Negative   1338\n",
       "4   FAMILY    4-5 stars   Neutral    364\n",
       "5   FAMILY    4-5 stars  Positive   3334\n",
       "6     GAME    3-4 stars  Negative     78\n",
       "7     GAME    3-4 stars   Neutral     14\n",
       "8     GAME    3-4 stars  Positive    124\n",
       "9     GAME    4-5 stars  Negative   6446"
      ]
     },
     "execution_count": 244,
     "metadata": {},
     "output_type": "execute_result"
    }
   ],
   "source": [
    "#Figure 1 Coding\n",
    "filter1a  = merged_df[merged_df['Reviews'] > 1000]\n",
    "filter1a = filter1a[[\"Category\",\"Rating_group\",\"Sentiment\"]]\n",
    "# filter1a.info()\n",
    "top_categories = filter1a['Category'].value_counts().nlargest(5).index\n",
    "filter1a = filter1a[filter1a['Category'].isin(top_categories)]\n",
    "\n",
    "sentiment_dist = (filter1a.groupby(['Category', 'Rating_group', 'Sentiment']).size().reset_index(name='Count'))\n",
    "\n",
    "sentiment_dist.head(10)"
   ]
  },
  {
   "cell_type": "code",
   "execution_count": 245,
   "metadata": {},
   "outputs": [
    {
     "data": {
      "application/vnd.plotly.v1+json": {
       "config": {
        "plotlyServerURL": "https://plot.ly"
       },
       "data": [
        {
         "alignmentgroup": "True",
         "hovertemplate": "Sentiment=Negative<br>Category=FAMILY<br>Rating Group=%{x}<br>Sentiment Count=%{y}<extra></extra>",
         "legendgroup": "Negative",
         "marker": {
          "color": "red",
          "pattern": {
           "shape": ""
          }
         },
         "name": "Negative",
         "offsetgroup": "Negative",
         "orientation": "v",
         "showlegend": true,
         "textposition": "auto",
         "type": "bar",
         "x": [
          "3-4 stars",
          "4-5 stars"
         ],
         "xaxis": "x",
         "y": [
          100,
          1338
         ],
         "yaxis": "y"
        },
        {
         "alignmentgroup": "True",
         "hovertemplate": "Sentiment=Negative<br>Category=GAME<br>Rating Group=%{x}<br>Sentiment Count=%{y}<extra></extra>",
         "legendgroup": "Negative",
         "marker": {
          "color": "red",
          "pattern": {
           "shape": ""
          }
         },
         "name": "Negative",
         "offsetgroup": "Negative",
         "orientation": "v",
         "showlegend": false,
         "textposition": "auto",
         "type": "bar",
         "x": [
          "3-4 stars",
          "4-5 stars"
         ],
         "xaxis": "x2",
         "y": [
          78,
          6446
         ],
         "yaxis": "y2"
        },
        {
         "alignmentgroup": "True",
         "hovertemplate": "Sentiment=Negative<br>Category=HEALTH_AND_FITNESS<br>Rating Group=%{x}<br>Sentiment Count=%{y}<extra></extra>",
         "legendgroup": "Negative",
         "marker": {
          "color": "red",
          "pattern": {
           "shape": ""
          }
         },
         "name": "Negative",
         "offsetgroup": "Negative",
         "orientation": "v",
         "showlegend": false,
         "textposition": "auto",
         "type": "bar",
         "x": [
          "3-4 stars",
          "4-5 stars"
         ],
         "xaxis": "x3",
         "y": [
          52,
          306
         ],
         "yaxis": "y3"
        },
        {
         "alignmentgroup": "True",
         "hovertemplate": "Sentiment=Negative<br>Category=PHOTOGRAPHY<br>Rating Group=%{x}<br>Sentiment Count=%{y}<extra></extra>",
         "legendgroup": "Negative",
         "marker": {
          "color": "red",
          "pattern": {
           "shape": ""
          }
         },
         "name": "Negative",
         "offsetgroup": "Negative",
         "orientation": "v",
         "showlegend": false,
         "textposition": "auto",
         "type": "bar",
         "x": [
          "3-4 stars",
          "4-5 stars"
         ],
         "xaxis": "x4",
         "y": [
          41,
          422
         ],
         "yaxis": "y4"
        },
        {
         "alignmentgroup": "True",
         "hovertemplate": "Sentiment=Negative<br>Category=TRAVEL_AND_LOCAL<br>Rating Group=%{x}<br>Sentiment Count=%{y}<extra></extra>",
         "legendgroup": "Negative",
         "marker": {
          "color": "red",
          "pattern": {
           "shape": ""
          }
         },
         "name": "Negative",
         "offsetgroup": "Negative",
         "orientation": "v",
         "showlegend": false,
         "textposition": "auto",
         "type": "bar",
         "x": [
          "3-4 stars",
          "4-5 stars"
         ],
         "xaxis": "x5",
         "y": [
          95,
          465
         ],
         "yaxis": "y5"
        },
        {
         "alignmentgroup": "True",
         "hovertemplate": "Sentiment=Neutral<br>Category=FAMILY<br>Rating Group=%{x}<br>Sentiment Count=%{y}<extra></extra>",
         "legendgroup": "Neutral",
         "marker": {
          "color": "blue",
          "pattern": {
           "shape": ""
          }
         },
         "name": "Neutral",
         "offsetgroup": "Neutral",
         "orientation": "v",
         "showlegend": true,
         "textposition": "auto",
         "type": "bar",
         "x": [
          "3-4 stars",
          "4-5 stars"
         ],
         "xaxis": "x",
         "y": [
          45,
          364
         ],
         "yaxis": "y"
        },
        {
         "alignmentgroup": "True",
         "hovertemplate": "Sentiment=Neutral<br>Category=GAME<br>Rating Group=%{x}<br>Sentiment Count=%{y}<extra></extra>",
         "legendgroup": "Neutral",
         "marker": {
          "color": "blue",
          "pattern": {
           "shape": ""
          }
         },
         "name": "Neutral",
         "offsetgroup": "Neutral",
         "orientation": "v",
         "showlegend": false,
         "textposition": "auto",
         "type": "bar",
         "x": [
          "3-4 stars",
          "4-5 stars"
         ],
         "xaxis": "x2",
         "y": [
          14,
          725
         ],
         "yaxis": "y2"
        },
        {
         "alignmentgroup": "True",
         "hovertemplate": "Sentiment=Neutral<br>Category=HEALTH_AND_FITNESS<br>Rating Group=%{x}<br>Sentiment Count=%{y}<extra></extra>",
         "legendgroup": "Neutral",
         "marker": {
          "color": "blue",
          "pattern": {
           "shape": ""
          }
         },
         "name": "Neutral",
         "offsetgroup": "Neutral",
         "orientation": "v",
         "showlegend": false,
         "textposition": "auto",
         "type": "bar",
         "x": [
          "3-4 stars",
          "4-5 stars"
         ],
         "xaxis": "x3",
         "y": [
          39,
          267
         ],
         "yaxis": "y3"
        },
        {
         "alignmentgroup": "True",
         "hovertemplate": "Sentiment=Neutral<br>Category=PHOTOGRAPHY<br>Rating Group=%{x}<br>Sentiment Count=%{y}<extra></extra>",
         "legendgroup": "Neutral",
         "marker": {
          "color": "blue",
          "pattern": {
           "shape": ""
          }
         },
         "name": "Neutral",
         "offsetgroup": "Neutral",
         "orientation": "v",
         "showlegend": false,
         "textposition": "auto",
         "type": "bar",
         "x": [
          "3-4 stars",
          "4-5 stars"
         ],
         "xaxis": "x4",
         "y": [
          17,
          242
         ],
         "yaxis": "y4"
        },
        {
         "alignmentgroup": "True",
         "hovertemplate": "Sentiment=Neutral<br>Category=TRAVEL_AND_LOCAL<br>Rating Group=%{x}<br>Sentiment Count=%{y}<extra></extra>",
         "legendgroup": "Neutral",
         "marker": {
          "color": "blue",
          "pattern": {
           "shape": ""
          }
         },
         "name": "Neutral",
         "offsetgroup": "Neutral",
         "orientation": "v",
         "showlegend": false,
         "textposition": "auto",
         "type": "bar",
         "x": [
          "3-4 stars",
          "4-5 stars"
         ],
         "xaxis": "x5",
         "y": [
          50,
          348
         ],
         "yaxis": "y5"
        },
        {
         "alignmentgroup": "True",
         "hovertemplate": "Sentiment=Positive<br>Category=FAMILY<br>Rating Group=%{x}<br>Sentiment Count=%{y}<extra></extra>",
         "legendgroup": "Positive",
         "marker": {
          "color": "green",
          "pattern": {
           "shape": ""
          }
         },
         "name": "Positive",
         "offsetgroup": "Positive",
         "orientation": "v",
         "showlegend": true,
         "textposition": "auto",
         "type": "bar",
         "x": [
          "3-4 stars",
          "4-5 stars"
         ],
         "xaxis": "x",
         "y": [
          172,
          3334
         ],
         "yaxis": "y"
        },
        {
         "alignmentgroup": "True",
         "hovertemplate": "Sentiment=Positive<br>Category=GAME<br>Rating Group=%{x}<br>Sentiment Count=%{y}<extra></extra>",
         "legendgroup": "Positive",
         "marker": {
          "color": "green",
          "pattern": {
           "shape": ""
          }
         },
         "name": "Positive",
         "offsetgroup": "Positive",
         "orientation": "v",
         "showlegend": false,
         "textposition": "auto",
         "type": "bar",
         "x": [
          "3-4 stars",
          "4-5 stars"
         ],
         "xaxis": "x2",
         "y": [
          124,
          9799
         ],
         "yaxis": "y2"
        },
        {
         "alignmentgroup": "True",
         "hovertemplate": "Sentiment=Positive<br>Category=HEALTH_AND_FITNESS<br>Rating Group=%{x}<br>Sentiment Count=%{y}<extra></extra>",
         "legendgroup": "Positive",
         "marker": {
          "color": "green",
          "pattern": {
           "shape": ""
          }
         },
         "name": "Positive",
         "offsetgroup": "Positive",
         "orientation": "v",
         "showlegend": false,
         "textposition": "auto",
         "type": "bar",
         "x": [
          "3-4 stars",
          "4-5 stars"
         ],
         "xaxis": "x3",
         "y": [
          393,
          1755
         ],
         "yaxis": "y3"
        },
        {
         "alignmentgroup": "True",
         "hovertemplate": "Sentiment=Positive<br>Category=PHOTOGRAPHY<br>Rating Group=%{x}<br>Sentiment Count=%{y}<extra></extra>",
         "legendgroup": "Positive",
         "marker": {
          "color": "green",
          "pattern": {
           "shape": ""
          }
         },
         "name": "Positive",
         "offsetgroup": "Positive",
         "orientation": "v",
         "showlegend": false,
         "textposition": "auto",
         "type": "bar",
         "x": [
          "3-4 stars",
          "4-5 stars"
         ],
         "xaxis": "x4",
         "y": [
          80,
          1532
         ],
         "yaxis": "y4"
        },
        {
         "alignmentgroup": "True",
         "hovertemplate": "Sentiment=Positive<br>Category=TRAVEL_AND_LOCAL<br>Rating Group=%{x}<br>Sentiment Count=%{y}<extra></extra>",
         "legendgroup": "Positive",
         "marker": {
          "color": "green",
          "pattern": {
           "shape": ""
          }
         },
         "name": "Positive",
         "offsetgroup": "Positive",
         "orientation": "v",
         "showlegend": false,
         "textposition": "auto",
         "type": "bar",
         "x": [
          "3-4 stars",
          "4-5 stars"
         ],
         "xaxis": "x5",
         "y": [
          134,
          1302
         ],
         "yaxis": "y5"
        }
       ],
       "layout": {
        "annotations": [
         {
          "showarrow": false,
          "text": "FAMILY",
          "x": 0.09200000000000001,
          "xanchor": "center",
          "xref": "paper",
          "y": 1,
          "yanchor": "bottom",
          "yref": "paper"
         },
         {
          "showarrow": false,
          "text": "GAME",
          "x": 0.29600000000000004,
          "xanchor": "center",
          "xref": "paper",
          "y": 1,
          "yanchor": "bottom",
          "yref": "paper"
         },
         {
          "showarrow": false,
          "text": "HEALTH_AND_FITNESS",
          "x": 0.5,
          "xanchor": "center",
          "xref": "paper",
          "y": 1,
          "yanchor": "bottom",
          "yref": "paper"
         },
         {
          "showarrow": false,
          "text": "PHOTOGRAPHY",
          "x": 0.7040000000000002,
          "xanchor": "center",
          "xref": "paper",
          "y": 1,
          "yanchor": "bottom",
          "yref": "paper"
         },
         {
          "showarrow": false,
          "text": "TRAVEL_AND_LOCAL",
          "x": 0.908,
          "xanchor": "center",
          "xref": "paper",
          "y": 1,
          "yanchor": "bottom",
          "yref": "paper"
         },
         {
          "font": {
           "size": 14
          },
          "showarrow": false,
          "text": "Rating Group",
          "x": 0.5,
          "xref": "paper",
          "y": -0.3,
          "yref": "paper"
         }
        ],
        "barmode": "stack",
        "height": 400,
        "legend": {
         "title": {
          "text": "Sentiment"
         },
         "tracegroupgap": 0
        },
        "template": {
         "data": {
          "bar": [
           {
            "error_x": {
             "color": "#2a3f5f"
            },
            "error_y": {
             "color": "#2a3f5f"
            },
            "marker": {
             "line": {
              "color": "#E5ECF6",
              "width": 0.5
             },
             "pattern": {
              "fillmode": "overlay",
              "size": 10,
              "solidity": 0.2
             }
            },
            "type": "bar"
           }
          ],
          "barpolar": [
           {
            "marker": {
             "line": {
              "color": "#E5ECF6",
              "width": 0.5
             },
             "pattern": {
              "fillmode": "overlay",
              "size": 10,
              "solidity": 0.2
             }
            },
            "type": "barpolar"
           }
          ],
          "carpet": [
           {
            "aaxis": {
             "endlinecolor": "#2a3f5f",
             "gridcolor": "white",
             "linecolor": "white",
             "minorgridcolor": "white",
             "startlinecolor": "#2a3f5f"
            },
            "baxis": {
             "endlinecolor": "#2a3f5f",
             "gridcolor": "white",
             "linecolor": "white",
             "minorgridcolor": "white",
             "startlinecolor": "#2a3f5f"
            },
            "type": "carpet"
           }
          ],
          "choropleth": [
           {
            "colorbar": {
             "outlinewidth": 0,
             "ticks": ""
            },
            "type": "choropleth"
           }
          ],
          "contour": [
           {
            "colorbar": {
             "outlinewidth": 0,
             "ticks": ""
            },
            "colorscale": [
             [
              0,
              "#0d0887"
             ],
             [
              0.1111111111111111,
              "#46039f"
             ],
             [
              0.2222222222222222,
              "#7201a8"
             ],
             [
              0.3333333333333333,
              "#9c179e"
             ],
             [
              0.4444444444444444,
              "#bd3786"
             ],
             [
              0.5555555555555556,
              "#d8576b"
             ],
             [
              0.6666666666666666,
              "#ed7953"
             ],
             [
              0.7777777777777778,
              "#fb9f3a"
             ],
             [
              0.8888888888888888,
              "#fdca26"
             ],
             [
              1,
              "#f0f921"
             ]
            ],
            "type": "contour"
           }
          ],
          "contourcarpet": [
           {
            "colorbar": {
             "outlinewidth": 0,
             "ticks": ""
            },
            "type": "contourcarpet"
           }
          ],
          "heatmap": [
           {
            "colorbar": {
             "outlinewidth": 0,
             "ticks": ""
            },
            "colorscale": [
             [
              0,
              "#0d0887"
             ],
             [
              0.1111111111111111,
              "#46039f"
             ],
             [
              0.2222222222222222,
              "#7201a8"
             ],
             [
              0.3333333333333333,
              "#9c179e"
             ],
             [
              0.4444444444444444,
              "#bd3786"
             ],
             [
              0.5555555555555556,
              "#d8576b"
             ],
             [
              0.6666666666666666,
              "#ed7953"
             ],
             [
              0.7777777777777778,
              "#fb9f3a"
             ],
             [
              0.8888888888888888,
              "#fdca26"
             ],
             [
              1,
              "#f0f921"
             ]
            ],
            "type": "heatmap"
           }
          ],
          "heatmapgl": [
           {
            "colorbar": {
             "outlinewidth": 0,
             "ticks": ""
            },
            "colorscale": [
             [
              0,
              "#0d0887"
             ],
             [
              0.1111111111111111,
              "#46039f"
             ],
             [
              0.2222222222222222,
              "#7201a8"
             ],
             [
              0.3333333333333333,
              "#9c179e"
             ],
             [
              0.4444444444444444,
              "#bd3786"
             ],
             [
              0.5555555555555556,
              "#d8576b"
             ],
             [
              0.6666666666666666,
              "#ed7953"
             ],
             [
              0.7777777777777778,
              "#fb9f3a"
             ],
             [
              0.8888888888888888,
              "#fdca26"
             ],
             [
              1,
              "#f0f921"
             ]
            ],
            "type": "heatmapgl"
           }
          ],
          "histogram": [
           {
            "marker": {
             "pattern": {
              "fillmode": "overlay",
              "size": 10,
              "solidity": 0.2
             }
            },
            "type": "histogram"
           }
          ],
          "histogram2d": [
           {
            "colorbar": {
             "outlinewidth": 0,
             "ticks": ""
            },
            "colorscale": [
             [
              0,
              "#0d0887"
             ],
             [
              0.1111111111111111,
              "#46039f"
             ],
             [
              0.2222222222222222,
              "#7201a8"
             ],
             [
              0.3333333333333333,
              "#9c179e"
             ],
             [
              0.4444444444444444,
              "#bd3786"
             ],
             [
              0.5555555555555556,
              "#d8576b"
             ],
             [
              0.6666666666666666,
              "#ed7953"
             ],
             [
              0.7777777777777778,
              "#fb9f3a"
             ],
             [
              0.8888888888888888,
              "#fdca26"
             ],
             [
              1,
              "#f0f921"
             ]
            ],
            "type": "histogram2d"
           }
          ],
          "histogram2dcontour": [
           {
            "colorbar": {
             "outlinewidth": 0,
             "ticks": ""
            },
            "colorscale": [
             [
              0,
              "#0d0887"
             ],
             [
              0.1111111111111111,
              "#46039f"
             ],
             [
              0.2222222222222222,
              "#7201a8"
             ],
             [
              0.3333333333333333,
              "#9c179e"
             ],
             [
              0.4444444444444444,
              "#bd3786"
             ],
             [
              0.5555555555555556,
              "#d8576b"
             ],
             [
              0.6666666666666666,
              "#ed7953"
             ],
             [
              0.7777777777777778,
              "#fb9f3a"
             ],
             [
              0.8888888888888888,
              "#fdca26"
             ],
             [
              1,
              "#f0f921"
             ]
            ],
            "type": "histogram2dcontour"
           }
          ],
          "mesh3d": [
           {
            "colorbar": {
             "outlinewidth": 0,
             "ticks": ""
            },
            "type": "mesh3d"
           }
          ],
          "parcoords": [
           {
            "line": {
             "colorbar": {
              "outlinewidth": 0,
              "ticks": ""
             }
            },
            "type": "parcoords"
           }
          ],
          "pie": [
           {
            "automargin": true,
            "type": "pie"
           }
          ],
          "scatter": [
           {
            "fillpattern": {
             "fillmode": "overlay",
             "size": 10,
             "solidity": 0.2
            },
            "type": "scatter"
           }
          ],
          "scatter3d": [
           {
            "line": {
             "colorbar": {
              "outlinewidth": 0,
              "ticks": ""
             }
            },
            "marker": {
             "colorbar": {
              "outlinewidth": 0,
              "ticks": ""
             }
            },
            "type": "scatter3d"
           }
          ],
          "scattercarpet": [
           {
            "marker": {
             "colorbar": {
              "outlinewidth": 0,
              "ticks": ""
             }
            },
            "type": "scattercarpet"
           }
          ],
          "scattergeo": [
           {
            "marker": {
             "colorbar": {
              "outlinewidth": 0,
              "ticks": ""
             }
            },
            "type": "scattergeo"
           }
          ],
          "scattergl": [
           {
            "marker": {
             "colorbar": {
              "outlinewidth": 0,
              "ticks": ""
             }
            },
            "type": "scattergl"
           }
          ],
          "scattermapbox": [
           {
            "marker": {
             "colorbar": {
              "outlinewidth": 0,
              "ticks": ""
             }
            },
            "type": "scattermapbox"
           }
          ],
          "scatterpolar": [
           {
            "marker": {
             "colorbar": {
              "outlinewidth": 0,
              "ticks": ""
             }
            },
            "type": "scatterpolar"
           }
          ],
          "scatterpolargl": [
           {
            "marker": {
             "colorbar": {
              "outlinewidth": 0,
              "ticks": ""
             }
            },
            "type": "scatterpolargl"
           }
          ],
          "scatterternary": [
           {
            "marker": {
             "colorbar": {
              "outlinewidth": 0,
              "ticks": ""
             }
            },
            "type": "scatterternary"
           }
          ],
          "surface": [
           {
            "colorbar": {
             "outlinewidth": 0,
             "ticks": ""
            },
            "colorscale": [
             [
              0,
              "#0d0887"
             ],
             [
              0.1111111111111111,
              "#46039f"
             ],
             [
              0.2222222222222222,
              "#7201a8"
             ],
             [
              0.3333333333333333,
              "#9c179e"
             ],
             [
              0.4444444444444444,
              "#bd3786"
             ],
             [
              0.5555555555555556,
              "#d8576b"
             ],
             [
              0.6666666666666666,
              "#ed7953"
             ],
             [
              0.7777777777777778,
              "#fb9f3a"
             ],
             [
              0.8888888888888888,
              "#fdca26"
             ],
             [
              1,
              "#f0f921"
             ]
            ],
            "type": "surface"
           }
          ],
          "table": [
           {
            "cells": {
             "fill": {
              "color": "#EBF0F8"
             },
             "line": {
              "color": "white"
             }
            },
            "header": {
             "fill": {
              "color": "#C8D4E3"
             },
             "line": {
              "color": "white"
             }
            },
            "type": "table"
           }
          ]
         },
         "layout": {
          "annotationdefaults": {
           "arrowcolor": "#2a3f5f",
           "arrowhead": 0,
           "arrowwidth": 1
          },
          "autotypenumbers": "strict",
          "coloraxis": {
           "colorbar": {
            "outlinewidth": 0,
            "ticks": ""
           }
          },
          "colorscale": {
           "diverging": [
            [
             0,
             "#8e0152"
            ],
            [
             0.1,
             "#c51b7d"
            ],
            [
             0.2,
             "#de77ae"
            ],
            [
             0.3,
             "#f1b6da"
            ],
            [
             0.4,
             "#fde0ef"
            ],
            [
             0.5,
             "#f7f7f7"
            ],
            [
             0.6,
             "#e6f5d0"
            ],
            [
             0.7,
             "#b8e186"
            ],
            [
             0.8,
             "#7fbc41"
            ],
            [
             0.9,
             "#4d9221"
            ],
            [
             1,
             "#276419"
            ]
           ],
           "sequential": [
            [
             0,
             "#0d0887"
            ],
            [
             0.1111111111111111,
             "#46039f"
            ],
            [
             0.2222222222222222,
             "#7201a8"
            ],
            [
             0.3333333333333333,
             "#9c179e"
            ],
            [
             0.4444444444444444,
             "#bd3786"
            ],
            [
             0.5555555555555556,
             "#d8576b"
            ],
            [
             0.6666666666666666,
             "#ed7953"
            ],
            [
             0.7777777777777778,
             "#fb9f3a"
            ],
            [
             0.8888888888888888,
             "#fdca26"
            ],
            [
             1,
             "#f0f921"
            ]
           ],
           "sequentialminus": [
            [
             0,
             "#0d0887"
            ],
            [
             0.1111111111111111,
             "#46039f"
            ],
            [
             0.2222222222222222,
             "#7201a8"
            ],
            [
             0.3333333333333333,
             "#9c179e"
            ],
            [
             0.4444444444444444,
             "#bd3786"
            ],
            [
             0.5555555555555556,
             "#d8576b"
            ],
            [
             0.6666666666666666,
             "#ed7953"
            ],
            [
             0.7777777777777778,
             "#fb9f3a"
            ],
            [
             0.8888888888888888,
             "#fdca26"
            ],
            [
             1,
             "#f0f921"
            ]
           ]
          },
          "colorway": [
           "#636efa",
           "#EF553B",
           "#00cc96",
           "#ab63fa",
           "#FFA15A",
           "#19d3f3",
           "#FF6692",
           "#B6E880",
           "#FF97FF",
           "#FECB52"
          ],
          "font": {
           "color": "#2a3f5f"
          },
          "geo": {
           "bgcolor": "white",
           "lakecolor": "white",
           "landcolor": "#E5ECF6",
           "showlakes": true,
           "showland": true,
           "subunitcolor": "white"
          },
          "hoverlabel": {
           "align": "left"
          },
          "hovermode": "closest",
          "mapbox": {
           "style": "light"
          },
          "paper_bgcolor": "white",
          "plot_bgcolor": "#E5ECF6",
          "polar": {
           "angularaxis": {
            "gridcolor": "white",
            "linecolor": "white",
            "ticks": ""
           },
           "bgcolor": "#E5ECF6",
           "radialaxis": {
            "gridcolor": "white",
            "linecolor": "white",
            "ticks": ""
           }
          },
          "scene": {
           "xaxis": {
            "backgroundcolor": "#E5ECF6",
            "gridcolor": "white",
            "gridwidth": 2,
            "linecolor": "white",
            "showbackground": true,
            "ticks": "",
            "zerolinecolor": "white"
           },
           "yaxis": {
            "backgroundcolor": "#E5ECF6",
            "gridcolor": "white",
            "gridwidth": 2,
            "linecolor": "white",
            "showbackground": true,
            "ticks": "",
            "zerolinecolor": "white"
           },
           "zaxis": {
            "backgroundcolor": "#E5ECF6",
            "gridcolor": "white",
            "gridwidth": 2,
            "linecolor": "white",
            "showbackground": true,
            "ticks": "",
            "zerolinecolor": "white"
           }
          },
          "shapedefaults": {
           "line": {
            "color": "#2a3f5f"
           }
          },
          "ternary": {
           "aaxis": {
            "gridcolor": "white",
            "linecolor": "white",
            "ticks": ""
           },
           "baxis": {
            "gridcolor": "white",
            "linecolor": "white",
            "ticks": ""
           },
           "bgcolor": "#E5ECF6",
           "caxis": {
            "gridcolor": "white",
            "linecolor": "white",
            "ticks": ""
           }
          },
          "title": {
           "x": 0.05
          },
          "xaxis": {
           "automargin": true,
           "gridcolor": "white",
           "linecolor": "white",
           "ticks": "",
           "title": {
            "standoff": 15
           },
           "zerolinecolor": "white",
           "zerolinewidth": 2
          },
          "yaxis": {
           "automargin": true,
           "gridcolor": "white",
           "linecolor": "white",
           "ticks": "",
           "title": {
            "standoff": 15
           },
           "zerolinecolor": "white",
           "zerolinewidth": 2
          }
         }
        },
        "title": {
         "text": "Sentiment Distribution by Rating Groups of Top 5 Categories"
        },
        "width": 1000,
        "xaxis": {
         "anchor": "y",
         "domain": [
          0,
          0.18400000000000002
         ],
         "tickangle": 35,
         "title": {}
        },
        "xaxis2": {
         "anchor": "y2",
         "domain": [
          0.20400000000000001,
          0.388
         ],
         "matches": "x",
         "tickangle": 35,
         "title": {}
        },
        "xaxis3": {
         "anchor": "y3",
         "domain": [
          0.40800000000000003,
          0.5920000000000001
         ],
         "matches": "x",
         "tickangle": 35,
         "title": {}
        },
        "xaxis4": {
         "anchor": "y4",
         "domain": [
          0.6120000000000001,
          0.7960000000000002
         ],
         "matches": "x",
         "tickangle": 35,
         "title": {}
        },
        "xaxis5": {
         "anchor": "y5",
         "domain": [
          0.8160000000000001,
          1
         ],
         "matches": "x",
         "tickangle": 35,
         "title": {}
        },
        "yaxis": {
         "anchor": "x",
         "domain": [
          0,
          1
         ],
         "title": {
          "text": "Sentiment Count"
         }
        },
        "yaxis2": {
         "anchor": "x2",
         "domain": [
          0,
          1
         ],
         "matches": "y",
         "showticklabels": false
        },
        "yaxis3": {
         "anchor": "x3",
         "domain": [
          0,
          1
         ],
         "matches": "y",
         "showticklabels": false
        },
        "yaxis4": {
         "anchor": "x4",
         "domain": [
          0,
          1
         ],
         "matches": "y",
         "showticklabels": false
        },
        "yaxis5": {
         "anchor": "x5",
         "domain": [
          0,
          1
         ],
         "matches": "y",
         "showticklabels": false
        }
       }
      }
     },
     "metadata": {},
     "output_type": "display_data"
    }
   ],
   "source": [
    "#Figure 1\n",
    "\n",
    "fig1=px.bar(\n",
    "    sentiment_dist,\n",
    "    x=\"Rating_group\",\n",
    "    y=\"Count\",\n",
    "    labels={'Count': 'Sentiment Count', 'Rating_group': 'Rating Group'},\n",
    "    color='Sentiment',\n",
    "    title='Sentiment Distribution by Rating Groups of Top 5 Categories',\n",
    "    color_discrete_map={'Positive': 'green', 'Neutral': 'blue', 'Negative': 'red'},\n",
    "    facet_col=\"Category\",\n",
    "    width=1000,\n",
    "    height=400,\n",
    "    barmode=\"stack\",\n",
    "    \n",
    ")\n",
    "# Modify facet column annotations to remove \"Category = \" and avoid overlapping\n",
    "fig1.for_each_annotation(lambda a: a.update(text=a.text.split('=')[1].strip()))\n",
    "\n",
    "fig1.for_each_xaxis(lambda x: x.update(title=None)),\n",
    "fig1.add_annotation(\n",
    "    x=0.5,\n",
    "    y=-0.30,\n",
    "    showarrow=False,\n",
    "    text=\"Rating Group\",\n",
    "    xref=\"paper\",\n",
    "    yref=\"paper\",\n",
    "    font=dict(size=14)\n",
    ")\n",
    "fig1.update_xaxes(tickangle=35)\n",
    "\n",
    "fig1.show()\n",
    "\n",
    "# Save plot as a html file\n",
    "save_plot_as_html(fig1,\"Task 1.html\",\"Sentiment Distribution by Rating Groups of Top 5 Categories\")"
   ]
  },
  {
   "cell_type": "markdown",
   "metadata": {},
   "source": [
    "Q2. Create an interactive Choropleth map using Plotly to visualize global installs by Category. Apply filters to show data for only the top 5 app categories and highlight category where the number of installs exceeds 1 million. The app category should not start with the characters “A,” “C,” “G,” or “S.” This graph should work only between 6 PM IST and 8 PM IST; apart from that time, we should not show it in the dashboard itself."
   ]
  },
  {
   "cell_type": "code",
   "execution_count": 246,
   "metadata": {},
   "outputs": [
    {
     "data": {
      "text/html": [
       "<div>\n",
       "<style scoped>\n",
       "    .dataframe tbody tr th:only-of-type {\n",
       "        vertical-align: middle;\n",
       "    }\n",
       "\n",
       "    .dataframe tbody tr th {\n",
       "        vertical-align: top;\n",
       "    }\n",
       "\n",
       "    .dataframe thead th {\n",
       "        text-align: right;\n",
       "    }\n",
       "</style>\n",
       "<table border=\"1\" class=\"dataframe\">\n",
       "  <thead>\n",
       "    <tr style=\"text-align: right;\">\n",
       "      <th></th>\n",
       "      <th>Category</th>\n",
       "      <th>Installs</th>\n",
       "      <th>Highlight</th>\n",
       "    </tr>\n",
       "  </thead>\n",
       "  <tbody>\n",
       "    <tr>\n",
       "      <th>0</th>\n",
       "      <td>PRODUCTIVITY</td>\n",
       "      <td>12463070180</td>\n",
       "      <td>True</td>\n",
       "    </tr>\n",
       "    <tr>\n",
       "      <th>1</th>\n",
       "      <td>TOOLS</td>\n",
       "      <td>11450724500</td>\n",
       "      <td>True</td>\n",
       "    </tr>\n",
       "    <tr>\n",
       "      <th>2</th>\n",
       "      <td>FAMILY</td>\n",
       "      <td>10041130590</td>\n",
       "      <td>True</td>\n",
       "    </tr>\n",
       "    <tr>\n",
       "      <th>3</th>\n",
       "      <td>PHOTOGRAPHY</td>\n",
       "      <td>9721243130</td>\n",
       "      <td>True</td>\n",
       "    </tr>\n",
       "    <tr>\n",
       "      <th>4</th>\n",
       "      <td>TRAVEL_AND_LOCAL</td>\n",
       "      <td>6361859300</td>\n",
       "      <td>True</td>\n",
       "    </tr>\n",
       "  </tbody>\n",
       "</table>\n",
       "</div>"
      ],
      "text/plain": [
       "           Category     Installs  Highlight\n",
       "0      PRODUCTIVITY  12463070180       True\n",
       "1             TOOLS  11450724500       True\n",
       "2            FAMILY  10041130590       True\n",
       "3       PHOTOGRAPHY   9721243130       True\n",
       "4  TRAVEL_AND_LOCAL   6361859300       True"
      ]
     },
     "execution_count": 246,
     "metadata": {},
     "output_type": "execute_result"
    }
   ],
   "source": [
    "#Figure 2 Coding\n",
    "filter_df2 = apps_df[~apps_df['Category'].str.startswith(('A', 'C', 'G', 'S'))]\n",
    "filter_df2 = filter_df2[['Category','Installs']]\n",
    "\n",
    "top_categories2 = filter_df2.groupby('Category', as_index=False).sum().nlargest(5,\"Installs\").reset_index(drop=True)\n",
    "\n",
    "top_categories2['Highlight'] = top_categories2['Installs'] > 1000000\n",
    "top_categories2.head()"
   ]
  },
  {
   "cell_type": "code",
   "execution_count": 247,
   "metadata": {},
   "outputs": [
    {
     "name": "stdout",
     "output_type": "stream",
     "text": [
      "The graph can only be displayed between 6 PM and 8 PM.\n"
     ]
    }
   ],
   "source": [
    "#Figure 2\n",
    "# Ensure the graph only displays between 1 PM to 2 PM\n",
    "current_time = dt.datetime.now().time()\n",
    "if current_time >= dt.time(18, 0) and current_time <= dt.time(20, 0):\n",
    "    fig2 = px.bar(top_categories2, x='Category', y='Installs', title='Top 5 App Categories by Global Installs',\n",
    "                color='Highlight',color_discrete_map={True:'Green',False:'Blue'},\n",
    "                width=1000,\n",
    "                height=400\n",
    "                \n",
    "                )\n",
    "\n",
    "    fig2.update_layout(\n",
    "        legend_title='Exceeds 1 Million',\n",
    "    )\n",
    "\n",
    "    fig2.show()\n",
    "else:\n",
    "    print(\"The graph can only be displayed between 6 PM and 8 PM.\")    \n",
    "\n",
    "save_plot_as_html(fig2,\"Task 2.html\",\"\")"
   ]
  },
  {
   "cell_type": "markdown",
   "metadata": {},
   "source": [
    "Q3. Create a dual-axis chart comparing the average installs and revenue for free vs. paid apps within the top 3 app categories. Apply filters to exclude apps with fewer than 10,000 installs and revenue below $10,000 and android version should be more than 4.0 as well as size should be more than 15M and content rating should be Everyone and app name should not have more than 30 characters including space and special character .this graph should work only between 1 PM IST to 2 PM IST apart from that time we should not show this graph in dashboard itself."
   ]
  },
  {
   "cell_type": "code",
   "execution_count": 248,
   "metadata": {},
   "outputs": [
    {
     "data": {
      "text/plain": [
       "array(['4.0.3 and up', '4.2 and up', '4.4 and up', '2.3 and up',\n",
       "       '3.0 and up', '4.1 and up', '4.0 and up', '2.3.3 and up',\n",
       "       'Varies with device', '2.2 and up', '5.0 and up', '6.0 and up',\n",
       "       '1.6 and up', '1.5 and up', '2.1 and up', '7.0 and up',\n",
       "       '4.3 and up', '4.0.3 - 7.1.1', '2.0 and up', '3.2 and up',\n",
       "       '4.4W and up', '5.1 and up', '7.1 and up', '7.0 - 7.1.1',\n",
       "       '8.0 and up', '5.0 - 8.0', '3.1 and up', '2.0.1 and up',\n",
       "       '4.1 - 7.1.1', '5.0 - 6.0', '1.0 and up'], dtype=object)"
      ]
     },
     "execution_count": 248,
     "metadata": {},
     "output_type": "execute_result"
    }
   ],
   "source": [
    "# Get unique values in the 'Android Ver' column\n",
    "unique_android_versions = apps_df['Android Ver'].unique()\n",
    "unique_android_versions"
   ]
  },
  {
   "cell_type": "code",
   "execution_count": 249,
   "metadata": {},
   "outputs": [],
   "source": [
    "# Function to parse Android version\n",
    "def parse_android_version(version):\n",
    "    if version == \"Varies with device\":\n",
    "        return float('inf')\n",
    "    elif '-' in version:\n",
    "        return float(version.split('-')[0].strip().replace('.', '', 1))\n",
    "    \n",
    "    elif version == \"4.4W and up\":\n",
    "        return float('4.4')\n",
    "\n",
    "    else:\n",
    "        return float(version.split()[0].replace('.', '', 1))\n",
    "    \n",
    "# Apply filters\n",
    "filtered_df3 = apps_df[\n",
    "    (apps_df['Installs'] >= 10000) &\n",
    "    (apps_df['Revenue'] >= 10000) &\n",
    "    (apps_df['Android Ver'].apply(parse_android_version) > 4.0)  &\n",
    "    (apps_df['Size'] > 15) &\n",
    "    (apps_df['Content Rating'] == 'Everyone') &\n",
    "    (apps_df['App'].apply(lambda x: len(x) <= 30))\n",
    "]\n",
    "\n",
    "# Get top 3 categories\n",
    "top_categories = filtered_df3['Category'].value_counts().nlargest(3).index\n",
    "\n",
    "# Filter for top categories\n",
    "filtered_df3 = filtered_df3[filtered_df3['Category'].isin(top_categories)]\n",
    "\n",
    "# Calculate average installs and revenue for free vs paid apps within top categories\n",
    "avg_data = filtered_df3.groupby(['Category', 'Type']).agg({'Installs': 'mean', 'Revenue': 'mean'}).reset_index()"
   ]
  },
  {
   "cell_type": "code",
   "execution_count": 250,
   "metadata": {},
   "outputs": [
    {
     "name": "stdout",
     "output_type": "stream",
     "text": [
      "The graph can only be displayed between 1 PM and 2 PM.\n"
     ]
    }
   ],
   "source": [
    "# Ensure the graph only displays between 1 PM to 2 PM\n",
    "current_time = dt.datetime.now().time()\n",
    "if current_time >= dt.time(13, 0) and current_time <= dt.time(14, 0):\n",
    "# Plot dual-axis chart using plotly express\n",
    "    fig3 = px.bar(avg_data, x='Category', y='Installs', color='Type',\n",
    "                labels={'Installs': 'Average Installs'},\n",
    "                title='Average Installs and Revenue for Free vs Paid Apps in Top Categories',\n",
    "                width=1000,\n",
    "                height=400)\n",
    "\n",
    "    fig3.add_scatter(x=avg_data[avg_data['Type'] == 'Free']['Category'], \n",
    "                    y=avg_data[avg_data['Type'] == 'Free']['Revenue'], \n",
    "                    mode='lines+markers', name='Free Revenue')\n",
    "\n",
    "    fig3.add_scatter(x=avg_data[avg_data['Type'] == 'Paid']['Category'], \n",
    "                    y=avg_data[avg_data['Type'] == 'Paid']['Revenue'], \n",
    "                    mode='lines+markers', name='Paid Revenue')\n",
    "\n",
    "    fig3.update_layout(yaxis2=dict(title='Average Revenue',\n",
    "                                overlaying='y',\n",
    "                                side='right'))\n",
    "\n",
    "    fig3.show()\n",
    "else:\n",
    "    print(\"The graph can only be displayed between 1 PM and 2 PM.\")\n",
    "\n",
    "save_plot_as_html(fig3,\"Task 3.html\",\"\")"
   ]
  },
  {
   "cell_type": "markdown",
   "metadata": {},
   "source": [
    "Q4. Use a grouped bar chart to compare the average rating and total review count for the top 10 app categories by number of installs. Filter out any categories where the average rating is below 4.0 and size below 10 M and last update should be Jan month . this graph should work only between 3PM IST to 5 PM IST apart from that time we should not show this graph in dashboard itself."
   ]
  },
  {
   "cell_type": "code",
   "execution_count": 251,
   "metadata": {},
   "outputs": [],
   "source": [
    "# Create columns for month and year\n",
    "apps_df['Last_Updated_Month'] = apps_df['Last Updated'].dt.month_name()\n",
    "apps_df['Last_Updated_Year'] = apps_df['Last Updated'].dt.year\n",
    "\n",
    "# Filter the data based on the specified conditions\n",
    "filtered_df4 = apps_df[\n",
    "    (apps_df['Rating'] >= 4.0) &  # Average rating >= 4.0\n",
    "    (apps_df['Size'] >= 10) &  # Size >= 10M\n",
    "    (apps_df['Last_Updated_Month'] == 'January')  # Last update in January\n",
    "]\n",
    "\n",
    "# Group the data by 'Category' and calculate the mean rating and total reviews\n",
    "category_grouped = filtered_df4.groupby('Category').agg(\n",
    "    Average_Rating=('Rating', 'mean'),\n",
    "    Total_Reviews=('Reviews', 'sum'),\n",
    "    Total_Installs=('Installs', 'sum')\n",
    ").reset_index()\n",
    "\n",
    "# Sort by installs and pick the top 10 categories\n",
    "top_10_categories = category_grouped.sort_values(by='Total_Installs', ascending=False).head(10)"
   ]
  },
  {
   "cell_type": "code",
   "execution_count": 252,
   "metadata": {},
   "outputs": [
    {
     "name": "stdout",
     "output_type": "stream",
     "text": [
      "The graph can only be displayed between 3 PM and 5 PM.\n"
     ]
    }
   ],
   "source": [
    "# Ensure the graph only displays between 3 PM to 5 PM\n",
    "current_time = dt.datetime.now().time()\n",
    "if current_time >= dt.time(00, 0) and current_time <= dt.time(17, 0):\n",
    "    # Create the figure\n",
    "    fig4 = go.Figure()\n",
    "\n",
    "    # Bar for Total Reviews\n",
    "    fig4.add_trace(\n",
    "        go.Bar(x=top_10_categories['Category'], y=top_10_categories['Total_Reviews'], \n",
    "               name=\"Total Reviews\", yaxis='y', marker_color='orange')\n",
    "    )\n",
    "\n",
    "    # Line for Average Rating (scaled differently)\n",
    "    fig4.add_trace(\n",
    "        go.Scatter(x=top_10_categories['Category'], y=top_10_categories['Average_Rating'], \n",
    "                   name=\"Average Rating\", yaxis='y2', marker=dict(color='blue'), mode='lines+markers')\n",
    "    )\n",
    "\n",
    "    # Update layout for dual y-axes\n",
    "    fig4.update_layout(\n",
    "        title=\"Average Rating and Total Review Count for Top 10 App Categories by Installs\",\n",
    "        xaxis=dict(title=\"Category\"),\n",
    "        yaxis=dict(title=\"Total Reviews\", side='left'),\n",
    "        yaxis2=dict(title=\"Average Rating\", overlaying='y', side='right', range=[0, 5]),  # Scaling for rating (0-5)\n",
    "        legend=dict(x=1.05, y=1, xanchor='left')\n",
    "    )\n",
    "    \n",
    "    fig4.show()\n",
    "else:\n",
    "    print(\"The graph can only be displayed between 3 PM and 5 PM.\")\n",
    "\n",
    "save_plot_as_html(fig4,\"Task 4.html\",\"\")"
   ]
  },
  {
   "cell_type": "markdown",
   "metadata": {},
   "source": [
    "Q5. Generate a heatmap to show the correlation matrix between installs, ratings, and review counts. Filter the data to include only apps that have been updated within the last year and have at least 100,000 installs and reviews count should be more than 1k and genres name should not be Starting with characters A , F , E , G , I , K . this graph should work only between 2 PM IST to 4 PM IST apart from that time we should not show this graph in dashboard itself."
   ]
  },
  {
   "cell_type": "code",
   "execution_count": 253,
   "metadata": {},
   "outputs": [],
   "source": [
    "# Step 1: Filter apps updated within the year 2018\n",
    "start_date = datetime(2018, 1, 1)\n",
    "end_date = datetime(2018, 12, 31)\n",
    "apps_df['Last Updated'] = pd.to_datetime(apps_df['Last Updated'], errors='coerce')  # Convert to datetime\n",
    "filtered_df5 = apps_df[(apps_df['Last Updated'] >= start_date) & (apps_df['Last Updated'] <= end_date)]\n",
    "\n",
    "# Convert 'Installs' and 'Reviews' to numeric, errors='coerce' will set non-numeric values to NaN\n",
    "filtered_df5['Installs'] = pd.to_numeric(filtered_df5['Installs'], errors='coerce')\n",
    "filtered_df5['Reviews'] = pd.to_numeric(filtered_df5['Reviews'], errors='coerce')\n",
    "\n",
    "# Step 2: Filter apps with at least 100,000 installs and more than 1,000 reviews\n",
    "filtered_df5 = filtered_df5[(filtered_df5['Installs'] >= 100000) & (filtered_df5['Reviews'] >= 1000)]\n",
    "\n",
    "\n",
    "# Step 3: Filter out genres starting with specific characters\n",
    "filtered_df5 = filtered_df5[~filtered_df5['Genres'].str.startswith(('A', 'F', 'E', 'G', 'I', 'K'))]"
   ]
  },
  {
   "cell_type": "code",
   "execution_count": 269,
   "metadata": {},
   "outputs": [
    {
     "name": "stdout",
     "output_type": "stream",
     "text": [
      "This graph can only be displayed between 2 PM and 4 PM.\n"
     ]
    }
   ],
   "source": [
    "# Check if it's between 2 PM and 4 PM\n",
    "current_hour = datetime.now().hour\n",
    "if 14 <= current_hour <= 16:\n",
    "    if not filtered_df5.empty:\n",
    "        # Select relevant columns for the correlation matrix\n",
    "        corr_data = filtered_df5[['Installs', 'Rating', 'Reviews']].corr()\n",
    "\n",
    "        # Generate the heatmap with Plotly\n",
    "        fig5 = px.imshow(\n",
    "            corr_data,\n",
    "            text_auto=\".2f\",\n",
    "            color_continuous_scale=\"RdBu\",\n",
    "            title=\"Correlation Matrix between Installs, Ratings, and Review Counts\"\n",
    "        )\n",
    "        fig5.update_layout(width=600, height=500, title_x=0.5)\n",
    "        fig5.show()\n",
    "    else:\n",
    "        print(\"No data available after applying the filters.\")\n",
    "else:\n",
    "    print(\"This graph can only be displayed between 2 PM and 4 PM.\")\n",
    "\n",
    "save_plot_as_html(fig5,\"Task 5.html\",\"\")"
   ]
  },
  {
   "cell_type": "markdown",
   "metadata": {},
   "source": [
    "\n",
    "Q6. Create a violin plot to visualize the distribution of ratings for each app category, but only include categories with more than 50 apps and app name should contain letter “C” and exclude apps with fewer than 10 reviews and rating should be less 4.0. this graph should work only between 4 PM IST to 6 PM IST apart from that time we should not show this graph in dashboard itself."
   ]
  },
  {
   "cell_type": "code",
   "execution_count": 255,
   "metadata": {},
   "outputs": [],
   "source": [
    "#Filter apps containing 'C'\n",
    "filtered_data = apps_df[apps_df['App'].str.contains('C', case=False)]\n",
    "\n",
    "#Check category counts and filter categories with more than 50 apps\n",
    "category_counts = filtered_data['Category'].value_counts()\n",
    "valid_categories = category_counts[category_counts > 50].index\n",
    "filtered_data = filtered_data[filtered_data['Category'].isin(valid_categories)]\n",
    "    \n",
    "#Filter apps with more than 10 reviews\n",
    "filtered_data = filtered_data[filtered_data['Reviews'] >= 10]\n",
    "\n",
    "#Filter apps with ratings less than 4.0\n",
    "filtered_data = filtered_data[filtered_data['Rating'] < 4.0]"
   ]
  },
  {
   "cell_type": "code",
   "execution_count": 268,
   "metadata": {},
   "outputs": [
    {
     "name": "stdout",
     "output_type": "stream",
     "text": [
      "This graph can only be displayed between 4 PM to 6 PM.\n"
     ]
    }
   ],
   "source": [
    "# Check if it's between 4 PM and 6 PM\n",
    "current_hour = datetime.now().hour\n",
    "if 16 <= current_hour <= 18:\n",
    "\n",
    "    # Check if any data is available after filtering\n",
    "    if not filtered_data.empty:\n",
    "        # Create a violin plot to visualize the distribution of ratings\n",
    "        fig6 = px.violin(filtered_data, y='Rating', x='Category', box=True, points='all')\n",
    "\n",
    "        # Customize layout\n",
    "        fig6.update_layout(\n",
    "            title=\"Distribution of Ratings for Each App Category (Apps Containing 'C', Rating < 4.0)\",\n",
    "            yaxis_title=\"Rating\",\n",
    "            xaxis_title=\"Category\",\n",
    "            showlegend=False\n",
    "        )\n",
    "\n",
    "        # Show the plot\n",
    "        fig6.show()\n",
    "    else:\n",
    "        print(\"No data available after applying the filters.\")\n",
    "else:\n",
    "    print(\"This graph can only be displayed between 4 PM to 6 PM.\")\n",
    "\n",
    "save_plot_as_html(fig6,\"Task 6.html\",\"\")"
   ]
  },
  {
   "cell_type": "markdown",
   "metadata": {},
   "source": [
    "Q7. Plot a time series line chart to show the trend of total installs over time, segmented by app category. Highlight periods of significant growth by shading the areas under the curve where the increase in installs exceeds 20% month-over-month and content rating should be teen and app name should start with letter ‘E’ and installs should be more than 10k as well as this graph should work only between 6 PM IST to 9 PM IST apart from that time we should not show this graph in dashboard itself."
   ]
  },
  {
   "cell_type": "code",
   "execution_count": 257,
   "metadata": {},
   "outputs": [],
   "source": [
    "# Filter data based on the conditions\n",
    "apps_df = apps_df[(apps_df['Content Rating'] == 'Teen') & (apps_df['Installs'] > 10000) & (apps_df['App'].str.startswith('E'))\n",
    "]\n",
    "\n",
    "# Create separate columns for month and year\n",
    "apps_df['Year'] = apps_df['Last Updated'].dt.year\n",
    "apps_df['Month'] = apps_df['Last Updated'].dt.month\n",
    "\n",
    "# Group by category, year, and month and sum the installs\n",
    "category_trends = apps_df.groupby(['Category', 'Year', 'Month'])['Installs'].sum().reset_index()\n",
    "\n",
    "# Sort by date for calculating month-over-month growth\n",
    "category_trends = category_trends.sort_values(['Category', 'Year', 'Month'])\n",
    "\n",
    "# Calculate month-over-month percentage change\n",
    "category_trends['MoM_Change'] = category_trends.groupby('Category')['Installs'].pct_change()"
   ]
  },
  {
   "cell_type": "code",
   "execution_count": 258,
   "metadata": {},
   "outputs": [
    {
     "name": "stdout",
     "output_type": "stream",
     "text": [
      "The graph can only be displayed between 6 PM and 9 PM.\n"
     ]
    }
   ],
   "source": [
    "# Check if it's between 6 PM and 9 PM\n",
    "current_hour = datetime.now().hour\n",
    "if 16 <= current_hour <= 18:\n",
    "    fig7 = go.Figure()\n",
    "\n",
    "    # Plotting the line for each category and shading the regions where MoM_Change exceeds 20%\n",
    "    categories = category_trends['Category'].unique()\n",
    "    for category in categories:\n",
    "        category_data = category_trends[category_trends['Category'] == category]\n",
    "        \n",
    "        # Plot the time series line for the category\n",
    "        fig7.add_trace(go.Scatter(\n",
    "            x=category_data['Year'].astype(str) + '-' + category_data['Month'].astype(str),\n",
    "            y=category_data['Installs'],\n",
    "            mode='lines',\n",
    "            name=category,\n",
    "            line=dict(width=2)\n",
    "        ))\n",
    "\n",
    "        # Filter rows where MoM_Change exceeds 20% for the current category\n",
    "        significant_growth = category_data[category_data['MoM_Change'] > 0.2]\n",
    "        if not significant_growth.empty:\n",
    "            # Fill the area under the curve where growth exceeds 20%\n",
    "            fig7.add_trace(go.Scatter(\n",
    "                x=significant_growth['Year'].astype(str) + '-' + significant_growth['Month'].astype(str),\n",
    "                y=significant_growth['Installs'],\n",
    "                mode='none',\n",
    "                fill='tozeroy',\n",
    "                name=f'{category} >20% Growth',\n",
    "                fillcolor='rgba(0,100,80,0.2)',  # Semi-transparent shading\n",
    "                showlegend=True  # Showing legend for the shaded area\n",
    "            ))\n",
    "    # Customize the layout\n",
    "    fig7.update_layout(\n",
    "        title=\"Trend of Total Installs Over Time (Apps with 'Teen' Rating, Starting with 'E')\",\n",
    "        xaxis_title=\"Date\",\n",
    "        yaxis_title=\"Total Installs\",\n",
    "        legend_title=\"Category\",\n",
    "        hovermode=\"x unified\",\n",
    "        height=600\n",
    "    )\n",
    "\n",
    "    # Show the plot\n",
    "    fig7.show()\n",
    "\n",
    "else:\n",
    "    print(\"The graph can only be displayed between 6 PM and 9 PM.\")\n",
    "\n",
    "save_plot_as_html(fig7,\"Task 7.html\",\"\")"
   ]
  },
  {
   "cell_type": "code",
   "execution_count": 259,
   "metadata": {},
   "outputs": [],
   "source": [
    "plot_containers_split=plot_containers.split('</div>')"
   ]
  },
  {
   "cell_type": "code",
   "execution_count": 260,
   "metadata": {},
   "outputs": [],
   "source": [
    "if len(plot_containers_split) > 1:\n",
    "    final_plot=plot_containers_split[-2]+'</div>'\n",
    "else:\n",
    "    final_plot=plot_containers"
   ]
  },
  {
   "cell_type": "code",
   "execution_count": 261,
   "metadata": {},
   "outputs": [],
   "source": [
    "dashboard_html= \"\"\"\n",
    "<!DOCTYPE html>\n",
    "<html lang=\"en\">\n",
    "<head>\n",
    "    <meta charset=\"UTF-8\">\n",
    "    <meta name=viewport\" content=\"width=device-width,initial-scale-1.0\">\n",
    "    <title> Google Play Store Review Analytics</title>\n",
    "    <style>\n",
    "        body {{\n",
    "            font-family: Arial, sans-serif;\n",
    "            background-color: #333;\n",
    "            color: #fff;\n",
    "            margin: 0;\n",
    "            padding: 0;\n",
    "        }}\n",
    "        .header {{\n",
    "            display: flex;\n",
    "            align-items: center;\n",
    "            justify-content: center;\n",
    "            padding: 20px;\n",
    "            background-color: #444\n",
    "        }}\n",
    "        .header img {{\n",
    "            margin: 0 10px;\n",
    "            height: 50px;\n",
    "        }}\n",
    "        .container {{\n",
    "            display: flex;\n",
    "            flex-wrap: wrap;\n",
    "            justify_content: center;\n",
    "            padding: 20px;\n",
    "        }}\n",
    "        .plot-container {{\n",
    "            border: 2px solid #555\n",
    "            margin: 10px;\n",
    "            padding: 10px;\n",
    "            width: {plot_width}px;\n",
    "            height: {plot_height}px;\n",
    "            overflow: hidden;\n",
    "            position: relative;\n",
    "            cursor: pointer;\n",
    "        }}\n",
    "        .insights {{\n",
    "            display: none;\n",
    "            position: absolute;\n",
    "            right: 10px;\n",
    "            top: 10px;\n",
    "            background-color: rgba(0,0,0,0.7);\n",
    "            padding: 5px;\n",
    "            border-radius: 5px;\n",
    "            color: #fff;\n",
    "        }}\n",
    "        .plot-container: hover .insights {{\n",
    "            display: block;\n",
    "        }}\n",
    "        </style>\n",
    "        <script>\n",
    "            function openPlot(filename) {{\n",
    "                window.open(filename, '_blank');\n",
    "                }}\n",
    "        </script>\n",
    "    </head>\n",
    "    <body>\n",
    "        <div class= \"header\">\n",
    "            <img src=\"https://upload.wikimedia.org/wikipedia/commons/thumb/4/4a/Logo_2013_Google.png/800px-Logo_2013_Google.png\" alt=\"Google Logo\">\n",
    "            <h1>Google Play Store Reviews Analytics</h1>\n",
    "            <img src=\"https://upload.wikimedia.org/wikipedia/commons/thumb/7/78/Google_Play_Store_badge_EN.svg/1024px-Google_Play_Store_badge_EN.svg.png\" alt=\"Google Play Store Logo\">\n",
    "        </div>\n",
    "        <div class=\"container\">\n",
    "            {plots}\n",
    "        </div>\n",
    "    </body>\n",
    "    </html>\n",
    "    \"\"\""
   ]
  },
  {
   "cell_type": "code",
   "execution_count": 262,
   "metadata": {},
   "outputs": [],
   "source": [
    "plot_width=1000\n",
    "plot_height=600\n",
    "plot_bg_color='black'\n",
    "text_color='white'\n",
    "title_font={'size':16}\n",
    "axis_font={'size':12}"
   ]
  },
  {
   "cell_type": "code",
   "execution_count": 263,
   "metadata": {},
   "outputs": [],
   "source": [
    "final_html=dashboard_html.format(plots=plot_containers,plot_width=plot_width,plot_height=plot_height)"
   ]
  },
  {
   "cell_type": "code",
   "execution_count": 264,
   "metadata": {},
   "outputs": [],
   "source": [
    "dashboard_path=os.path.join(html_files_path,\"../../index.html\")"
   ]
  },
  {
   "cell_type": "code",
   "execution_count": 265,
   "metadata": {},
   "outputs": [],
   "source": [
    "with open(dashboard_path, \"w\", encoding=\"utf-8\") as f:\n",
    "    f.write(final_html)"
   ]
  },
  {
   "cell_type": "code",
   "execution_count": 266,
   "metadata": {},
   "outputs": [
    {
     "data": {
      "text/plain": [
       "True"
      ]
     },
     "execution_count": 266,
     "metadata": {},
     "output_type": "execute_result"
    }
   ],
   "source": [
    "webbrowser.open('file://'+os.path.realpath(dashboard_path))"
   ]
  },
  {
   "cell_type": "code",
   "execution_count": null,
   "metadata": {},
   "outputs": [],
   "source": []
  }
 ],
 "metadata": {
  "kernelspec": {
   "display_name": "base",
   "language": "python",
   "name": "python3"
  },
  "language_info": {
   "codemirror_mode": {
    "name": "ipython",
    "version": 3
   },
   "file_extension": ".py",
   "mimetype": "text/x-python",
   "name": "python",
   "nbconvert_exporter": "python",
   "pygments_lexer": "ipython3",
   "version": "3.12.7"
  }
 },
 "nbformat": 4,
 "nbformat_minor": 2
}
